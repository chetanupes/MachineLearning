{
 "cells": [
  {
   "cell_type": "code",
   "execution_count": 1,
   "metadata": {},
   "outputs": [],
   "source": [
    "import pandas as pd\n",
    "import numpy as np\n",
    "import matplotlib.pyplot as plt\n",
    "import seaborn as sn\n",
    "%matplotlib inline"
   ]
  },
  {
   "cell_type": "code",
   "execution_count": 2,
   "metadata": {},
   "outputs": [],
   "source": [
    "df=pd.read_csv('MH180 Hydraulics-day 2.csv')"
   ]
  },
  {
   "cell_type": "code",
   "execution_count": 4,
   "metadata": {},
   "outputs": [
    {
     "data": {
      "text/html": [
       "<div>\n",
       "<style scoped>\n",
       "    .dataframe tbody tr th:only-of-type {\n",
       "        vertical-align: middle;\n",
       "    }\n",
       "\n",
       "    .dataframe tbody tr th {\n",
       "        vertical-align: top;\n",
       "    }\n",
       "\n",
       "    .dataframe thead th {\n",
       "        text-align: right;\n",
       "    }\n",
       "</style>\n",
       "<table border=\"1\" class=\"dataframe\">\n",
       "  <thead>\n",
       "    <tr style=\"text-align: right;\">\n",
       "      <th></th>\n",
       "      <th>Flow_rate</th>\n",
       "      <th>H_Flushing</th>\n",
       "      <th>H_Hammering</th>\n",
       "      <th>DP_Bit</th>\n",
       "      <th>Rig_equipment</th>\n",
       "      <th>S_Flushing</th>\n",
       "      <th>S_Hammering</th>\n",
       "      <th>Hammer_Power%</th>\n",
       "      <th>Min_WOB_(tons fce)</th>\n",
       "    </tr>\n",
       "  </thead>\n",
       "  <tbody>\n",
       "    <tr>\n",
       "      <th>0</th>\n",
       "      <td>100</td>\n",
       "      <td>0</td>\n",
       "      <td>0</td>\n",
       "      <td>0</td>\n",
       "      <td>0</td>\n",
       "      <td>0</td>\n",
       "      <td>0</td>\n",
       "      <td>0.0</td>\n",
       "      <td>0.01</td>\n",
       "    </tr>\n",
       "    <tr>\n",
       "      <th>1</th>\n",
       "      <td>200</td>\n",
       "      <td>1</td>\n",
       "      <td>1</td>\n",
       "      <td>0</td>\n",
       "      <td>0</td>\n",
       "      <td>1</td>\n",
       "      <td>1</td>\n",
       "      <td>0.0</td>\n",
       "      <td>0.02</td>\n",
       "    </tr>\n",
       "    <tr>\n",
       "      <th>2</th>\n",
       "      <td>300</td>\n",
       "      <td>1</td>\n",
       "      <td>1</td>\n",
       "      <td>0</td>\n",
       "      <td>0</td>\n",
       "      <td>2</td>\n",
       "      <td>2</td>\n",
       "      <td>0.0</td>\n",
       "      <td>0.05</td>\n",
       "    </tr>\n",
       "    <tr>\n",
       "      <th>3</th>\n",
       "      <td>400</td>\n",
       "      <td>2</td>\n",
       "      <td>3</td>\n",
       "      <td>1</td>\n",
       "      <td>1</td>\n",
       "      <td>4</td>\n",
       "      <td>4</td>\n",
       "      <td>0.0</td>\n",
       "      <td>0.09</td>\n",
       "    </tr>\n",
       "    <tr>\n",
       "      <th>4</th>\n",
       "      <td>500</td>\n",
       "      <td>3</td>\n",
       "      <td>4</td>\n",
       "      <td>1</td>\n",
       "      <td>1</td>\n",
       "      <td>6</td>\n",
       "      <td>6</td>\n",
       "      <td>0.0</td>\n",
       "      <td>0.15</td>\n",
       "    </tr>\n",
       "  </tbody>\n",
       "</table>\n",
       "</div>"
      ],
      "text/plain": [
       "   Flow_rate  H_Flushing  H_Hammering  DP_Bit  Rig_equipment  S_Flushing  \\\n",
       "0        100           0            0       0              0           0   \n",
       "1        200           1            1       0              0           1   \n",
       "2        300           1            1       0              0           2   \n",
       "3        400           2            3       1              1           4   \n",
       "4        500           3            4       1              1           6   \n",
       "\n",
       "   S_Hammering  Hammer_Power%  Min_WOB_(tons fce)  \n",
       "0            0            0.0                0.01  \n",
       "1            1            0.0                0.02  \n",
       "2            2            0.0                0.05  \n",
       "3            4            0.0                0.09  \n",
       "4            6            0.0                0.15  "
      ]
     },
     "execution_count": 4,
     "metadata": {},
     "output_type": "execute_result"
    }
   ],
   "source": [
    "df.head()"
   ]
  },
  {
   "cell_type": "code",
   "execution_count": 5,
   "metadata": {},
   "outputs": [
    {
     "name": "stdout",
     "output_type": "stream",
     "text": [
      "<class 'pandas.core.frame.DataFrame'>\n",
      "RangeIndex: 45 entries, 0 to 44\n",
      "Data columns (total 9 columns):\n",
      " #   Column              Non-Null Count  Dtype  \n",
      "---  ------              --------------  -----  \n",
      " 0   Flow_rate           45 non-null     int64  \n",
      " 1   H_Flushing          45 non-null     int64  \n",
      " 2   H_Hammering         45 non-null     int64  \n",
      " 3   DP_Bit              45 non-null     int64  \n",
      " 4   Rig_equipment       45 non-null     int64  \n",
      " 5   S_Flushing          45 non-null     int64  \n",
      " 6   S_Hammering         45 non-null     int64  \n",
      " 7   Hammer_Power%       45 non-null     float64\n",
      " 8   Min_WOB_(tons fce)  45 non-null     float64\n",
      "dtypes: float64(2), int64(7)\n",
      "memory usage: 3.3 KB\n"
     ]
    }
   ],
   "source": [
    "df.info()"
   ]
  },
  {
   "cell_type": "code",
   "execution_count": 6,
   "metadata": {},
   "outputs": [],
   "source": [
    "#Building a model \n",
    "#Null Hypothesis is DP Hammer (flushing) does not correlates stronglty with DP String Flusing\n",
    "#Altenate Hypothesis DP Hammer (flushing) correlates stronglty with DP String Flusing\n",
    "#Applying stats models"
   ]
  },
  {
   "cell_type": "code",
   "execution_count": 7,
   "metadata": {},
   "outputs": [
    {
     "data": {
      "text/plain": [
       "<matplotlib.axes._subplots.AxesSubplot at 0x15da6b79108>"
      ]
     },
     "execution_count": 7,
     "metadata": {},
     "output_type": "execute_result"
    },
    {
     "data": {
      "image/png": "[encoded data removed]",
      "text/plain": [
       "<Figure size 1440x720 with 4 Axes>"
      ]
     },
     "metadata": {
      "needs_background": "light"
     },
     "output_type": "display_data"
    }
   ],
   "source": [
    "#First plotting the data\n",
    "fig, axs=plt.subplots(1,4)\n",
    "df.plot(kind='scatter', x='S_Flushing',y='H_Flushing', ax=axs[0], figsize=(20,10))\n",
    "df.plot(kind='scatter', x='S_Hammering',y='H_Hammering', ax=axs[1], figsize=(20,10))\n",
    "df.plot(kind='scatter', x='Flow_rate',y='H_Hammering', ax=axs[2], figsize=(20,10))\n",
    "df.plot(kind='scatter', x='Flow_rate',y='S_Hammering', ax=axs[3], figsize=(20,10))"
   ]
  },
  {
   "cell_type": "code",
   "execution_count": 8,
   "metadata": {},
   "outputs": [
    {
     "name": "stdout",
     "output_type": "stream",
     "text": [
      "Corr b/w DP of Hammer Flushing and String Flushing : [1.         0.99991453]\n",
      "\n",
      "\n",
      "Corr b/w DP of Hammer Hammering and String Hamerring : [1.         0.99995278]\n",
      "\n",
      "\n",
      "Corr b/w Flow rate and Hammer Hamerring : [1.         0.97179276]\n",
      "\n",
      "\n"
     ]
    }
   ],
   "source": [
    "import numpy as np\n",
    "print('Corr b/w DP of Hammer Flushing and String Flushing :',np.corrcoef(df.H_Flushing,df.S_Flushing)[0])\n",
    "print(\"\\n\")\n",
    "print('Corr b/w DP of Hammer Hammering and String Hamerring :',np.corrcoef(df.H_Hammering,df.S_Hammering)[0])\n",
    "print(\"\\n\")\n",
    "print('Corr b/w Flow rate and Hammer Hamerring :',np.corrcoef(df.Flow_rate,df.S_Hammering)[0])\n",
    "print(\"\\n\")"
   ]
  },
  {
   "cell_type": "code",
   "execution_count": 9,
   "metadata": {},
   "outputs": [
    {
     "data": {
      "text/html": [
       "<table class=\"simpletable\">\n",
       "<caption>OLS Regression Results</caption>\n",
       "<tr>\n",
       "  <th>Dep. Variable:</th>        <td>Flow_rate</td>    <th>  R-squared:         </th> <td>   0.944</td>\n",
       "</tr>\n",
       "<tr>\n",
       "  <th>Model:</th>                   <td>OLS</td>       <th>  Adj. R-squared:    </th> <td>   0.942</td>\n",
       "</tr>\n",
       "<tr>\n",
       "  <th>Method:</th>             <td>Least Squares</td>  <th>  F-statistic:       </th> <td>   720.2</td>\n",
       "</tr>\n",
       "<tr>\n",
       "  <th>Date:</th>             <td>Tue, 26 May 2020</td> <th>  Prob (F-statistic):</th> <td>1.73e-28</td>\n",
       "</tr>\n",
       "<tr>\n",
       "  <th>Time:</th>                 <td>09:15:04</td>     <th>  Log-Likelihood:    </th> <td> -293.97</td>\n",
       "</tr>\n",
       "<tr>\n",
       "  <th>No. Observations:</th>      <td>    45</td>      <th>  AIC:               </th> <td>   591.9</td>\n",
       "</tr>\n",
       "<tr>\n",
       "  <th>Df Residuals:</th>          <td>    43</td>      <th>  BIC:               </th> <td>   595.5</td>\n",
       "</tr>\n",
       "<tr>\n",
       "  <th>Df Model:</th>              <td>     1</td>      <th>                     </th>     <td> </td>   \n",
       "</tr>\n",
       "<tr>\n",
       "  <th>Covariance Type:</th>      <td>nonrobust</td>    <th>                     </th>     <td> </td>   \n",
       "</tr>\n",
       "</table>\n",
       "<table class=\"simpletable\">\n",
       "<tr>\n",
       "       <td></td>         <th>coef</th>     <th>std err</th>      <th>t</th>      <th>P>|t|</th>  <th>[0.025</th>    <th>0.975]</th>  \n",
       "</tr>\n",
       "<tr>\n",
       "  <th>Intercept</th>  <td>  605.0325</td> <td>   42.457</td> <td>   14.250</td> <td> 0.000</td> <td>  519.410</td> <td>  690.655</td>\n",
       "</tr>\n",
       "<tr>\n",
       "  <th>S_Flushing</th> <td>   14.4547</td> <td>    0.539</td> <td>   26.836</td> <td> 0.000</td> <td>   13.368</td> <td>   15.541</td>\n",
       "</tr>\n",
       "</table>\n",
       "<table class=\"simpletable\">\n",
       "<tr>\n",
       "  <th>Omnibus:</th>       <td>12.124</td> <th>  Durbin-Watson:     </th> <td>   0.041</td>\n",
       "</tr>\n",
       "<tr>\n",
       "  <th>Prob(Omnibus):</th> <td> 0.002</td> <th>  Jarque-Bera (JB):  </th> <td>  12.283</td>\n",
       "</tr>\n",
       "<tr>\n",
       "  <th>Skew:</th>          <td>-1.217</td> <th>  Prob(JB):          </th> <td> 0.00215</td>\n",
       "</tr>\n",
       "<tr>\n",
       "  <th>Kurtosis:</th>      <td> 3.794</td> <th>  Cond. No.          </th> <td>    132.</td>\n",
       "</tr>\n",
       "</table><br/><br/>Warnings:<br/>[1] Standard Errors assume that the covariance matrix of the errors is correctly specified."
      ],
      "text/plain": [
       "<class 'statsmodels.iolib.summary.Summary'>\n",
       "\"\"\"\n",
       "                            OLS Regression Results                            \n",
       "==============================================================================\n",
       "Dep. Variable:              Flow_rate   R-squared:                       0.944\n",
       "Model:                            OLS   Adj. R-squared:                  0.942\n",
       "Method:                 Least Squares   F-statistic:                     720.2\n",
       "Date:                Tue, 26 May 2020   Prob (F-statistic):           1.73e-28\n",
       "Time:                        09:15:04   Log-Likelihood:                -293.97\n",
       "No. Observations:                  45   AIC:                             591.9\n",
       "Df Residuals:                      43   BIC:                             595.5\n",
       "Df Model:                           1                                         \n",
       "Covariance Type:            nonrobust                                         \n",
       "==============================================================================\n",
       "                 coef    std err          t      P>|t|      [0.025      0.975]\n",
       "------------------------------------------------------------------------------\n",
       "Intercept    605.0325     42.457     14.250      0.000     519.410     690.655\n",
       "S_Flushing    14.4547      0.539     26.836      0.000      13.368      15.541\n",
       "==============================================================================\n",
       "Omnibus:                       12.124   Durbin-Watson:                   0.041\n",
       "Prob(Omnibus):                  0.002   Jarque-Bera (JB):               12.283\n",
       "Skew:                          -1.217   Prob(JB):                      0.00215\n",
       "Kurtosis:                       3.794   Cond. No.                         132.\n",
       "==============================================================================\n",
       "\n",
       "Warnings:\n",
       "[1] Standard Errors assume that the covariance matrix of the errors is correctly specified.\n",
       "\"\"\""
      ]
     },
     "execution_count": 9,
     "metadata": {},
     "output_type": "execute_result"
    }
   ],
   "source": [
    "#Using Stats Model to understand the hypothesis: Model 1\n",
    "import statsmodels.formula.api as smf\n",
    "model1=smf.ols(formula='Flow_rate ~ S_Flushing', data=df).fit()\n",
    "model1.summary()\n"
   ]
  },
  {
   "cell_type": "code",
   "execution_count": 13,
   "metadata": {},
   "outputs": [
    {
     "data": {
      "text/html": [
       "<table class=\"simpletable\">\n",
       "<caption>OLS Regression Results</caption>\n",
       "<tr>\n",
       "  <th>Dep. Variable:</th>        <td>Flow_rate</td>    <th>  R-squared:         </th> <td>   0.944</td>\n",
       "</tr>\n",
       "<tr>\n",
       "  <th>Model:</th>                   <td>OLS</td>       <th>  Adj. R-squared:    </th> <td>   0.943</td>\n",
       "</tr>\n",
       "<tr>\n",
       "  <th>Method:</th>             <td>Least Squares</td>  <th>  F-statistic:       </th> <td>   730.1</td>\n",
       "</tr>\n",
       "<tr>\n",
       "  <th>Date:</th>             <td>Tue, 26 May 2020</td> <th>  Prob (F-statistic):</th> <td>1.31e-28</td>\n",
       "</tr>\n",
       "<tr>\n",
       "  <th>Time:</th>                 <td>09:15:39</td>     <th>  Log-Likelihood:    </th> <td> -293.68</td>\n",
       "</tr>\n",
       "<tr>\n",
       "  <th>No. Observations:</th>      <td>    45</td>      <th>  AIC:               </th> <td>   591.4</td>\n",
       "</tr>\n",
       "<tr>\n",
       "  <th>Df Residuals:</th>          <td>    43</td>      <th>  BIC:               </th> <td>   595.0</td>\n",
       "</tr>\n",
       "<tr>\n",
       "  <th>Df Model:</th>              <td>     1</td>      <th>                     </th>     <td> </td>   \n",
       "</tr>\n",
       "<tr>\n",
       "  <th>Covariance Type:</th>      <td>nonrobust</td>    <th>                     </th>     <td> </td>   \n",
       "</tr>\n",
       "</table>\n",
       "<table class=\"simpletable\">\n",
       "<tr>\n",
       "       <td></td>          <th>coef</th>     <th>std err</th>      <th>t</th>      <th>P>|t|</th>  <th>[0.025</th>    <th>0.975]</th>  \n",
       "</tr>\n",
       "<tr>\n",
       "  <th>Intercept</th>   <td>  605.3215</td> <td>   42.164</td> <td>   14.356</td> <td> 0.000</td> <td>  520.290</td> <td>  690.353</td>\n",
       "</tr>\n",
       "<tr>\n",
       "  <th>S_Hammering</th> <td>   12.8230</td> <td>    0.475</td> <td>   27.021</td> <td> 0.000</td> <td>   11.866</td> <td>   13.780</td>\n",
       "</tr>\n",
       "</table>\n",
       "<table class=\"simpletable\">\n",
       "<tr>\n",
       "  <th>Omnibus:</th>       <td>12.316</td> <th>  Durbin-Watson:     </th> <td>   0.041</td>\n",
       "</tr>\n",
       "<tr>\n",
       "  <th>Prob(Omnibus):</th> <td> 0.002</td> <th>  Jarque-Bera (JB):  </th> <td>  12.515</td>\n",
       "</tr>\n",
       "<tr>\n",
       "  <th>Skew:</th>          <td>-1.222</td> <th>  Prob(JB):          </th> <td> 0.00192</td>\n",
       "</tr>\n",
       "<tr>\n",
       "  <th>Kurtosis:</th>      <td> 3.840</td> <th>  Cond. No.          </th> <td>    149.</td>\n",
       "</tr>\n",
       "</table><br/><br/>Warnings:<br/>[1] Standard Errors assume that the covariance matrix of the errors is correctly specified."
      ],
      "text/plain": [
       "<class 'statsmodels.iolib.summary.Summary'>\n",
       "\"\"\"\n",
       "                            OLS Regression Results                            \n",
       "==============================================================================\n",
       "Dep. Variable:              Flow_rate   R-squared:                       0.944\n",
       "Model:                            OLS   Adj. R-squared:                  0.943\n",
       "Method:                 Least Squares   F-statistic:                     730.1\n",
       "Date:                Tue, 26 May 2020   Prob (F-statistic):           1.31e-28\n",
       "Time:                        09:15:39   Log-Likelihood:                -293.68\n",
       "No. Observations:                  45   AIC:                             591.4\n",
       "Df Residuals:                      43   BIC:                             595.0\n",
       "Df Model:                           1                                         \n",
       "Covariance Type:            nonrobust                                         \n",
       "===============================================================================\n",
       "                  coef    std err          t      P>|t|      [0.025      0.975]\n",
       "-------------------------------------------------------------------------------\n",
       "Intercept     605.3215     42.164     14.356      0.000     520.290     690.353\n",
       "S_Hammering    12.8230      0.475     27.021      0.000      11.866      13.780\n",
       "==============================================================================\n",
       "Omnibus:                       12.316   Durbin-Watson:                   0.041\n",
       "Prob(Omnibus):                  0.002   Jarque-Bera (JB):               12.515\n",
       "Skew:                          -1.222   Prob(JB):                      0.00192\n",
       "Kurtosis:                       3.840   Cond. No.                         149.\n",
       "==============================================================================\n",
       "\n",
       "Warnings:\n",
       "[1] Standard Errors assume that the covariance matrix of the errors is correctly specified.\n",
       "\"\"\""
      ]
     },
     "execution_count": 13,
     "metadata": {},
     "output_type": "execute_result"
    }
   ],
   "source": [
    "import statsmodels.formula.api as smf\n",
    "model1=smf.ols(formula='Flow_rate ~ S_Hammering', data=df).fit()\n",
    "model1.summary()\n"
   ]
  },
  {
   "cell_type": "code",
   "execution_count": null,
   "metadata": {},
   "outputs": [],
   "source": []
  },
  {
   "cell_type": "code",
   "execution_count": null,
   "metadata": {},
   "outputs": [],
   "source": []
  }
 ],
 "metadata": {
  "kernelspec": {
   "display_name": "Python 3",
   "language": "python",
   "name": "python3"
  },
  "language_info": {
   "codemirror_mode": {
    "name": "ipython",
    "version": 3
   },
   "file_extension": ".py",
   "mimetype": "text/x-python",
   "name": "python",
   "nbconvert_exporter": "python",
   "pygments_lexer": "ipython3",
   "version": "3.7.6"
  }
 },
 "nbformat": 4,
 "nbformat_minor": 4
}
