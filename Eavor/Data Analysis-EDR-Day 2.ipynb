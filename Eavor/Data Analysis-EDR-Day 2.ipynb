{
 "cells": [
  {
   "cell_type": "code",
   "execution_count": 2,
   "metadata": {},
   "outputs": [],
   "source": [
    "import pandas as pd\n",
    "import numpy as np\n",
    "import matplotlib.pyplot as plt\n",
    "import seaborn as sn\n",
    "from scipy.fftpack import fft, ifft, fftfreq\n",
    "from sklearn.preprocessing import normalize\n",
    "\n",
    "%matplotlib inline"
   ]
  },
  {
   "cell_type": "code",
   "execution_count": 3,
   "metadata": {},
   "outputs": [],
   "source": [
    "df=pd.read_csv('EDR_Day 2_data.csv')"
   ]
  },
  {
   "cell_type": "code",
   "execution_count": 4,
   "metadata": {},
   "outputs": [
    {
     "data": {
      "text/html": [
       "<div>\n",
       "<style scoped>\n",
       "    .dataframe tbody tr th:only-of-type {\n",
       "        vertical-align: middle;\n",
       "    }\n",
       "\n",
       "    .dataframe tbody tr th {\n",
       "        vertical-align: top;\n",
       "    }\n",
       "\n",
       "    .dataframe thead th {\n",
       "        text-align: right;\n",
       "    }\n",
       "</style>\n",
       "<table border=\"1\" class=\"dataframe\">\n",
       "  <thead>\n",
       "    <tr style=\"text-align: right;\">\n",
       "      <th></th>\n",
       "      <th>datetime</th>\n",
       "      <th>ms</th>\n",
       "      <th>depth</th>\n",
       "      <th>hkload</th>\n",
       "      <th>spp1</th>\n",
       "      <th>p_rate1</th>\n",
       "      <th>spp2</th>\n",
       "      <th>p_rate2</th>\n",
       "      <th>bheight</th>\n",
       "      <th>rpm</th>\n",
       "      <th>...</th>\n",
       "      <th>shypeak(g)</th>\n",
       "      <th>shyrms(g)</th>\n",
       "      <th>shzcount(samples)</th>\n",
       "      <th>shzsamprate(hz)</th>\n",
       "      <th>shzmin(g)</th>\n",
       "      <th>shzavg(g)</th>\n",
       "      <th>shzmed(g)</th>\n",
       "      <th>shzmax(g)</th>\n",
       "      <th>shzpeak(g)</th>\n",
       "      <th>shzrms(g)</th>\n",
       "    </tr>\n",
       "  </thead>\n",
       "  <tbody>\n",
       "    <tr>\n",
       "      <th>0</th>\n",
       "      <td>2020-05-07 15:00</td>\n",
       "      <td>0</td>\n",
       "      <td>196</td>\n",
       "      <td>34.5675</td>\n",
       "      <td>0.918750</td>\n",
       "      <td>0.0</td>\n",
       "      <td>0.0</td>\n",
       "      <td>0.0</td>\n",
       "      <td>0.721875</td>\n",
       "      <td>0.0</td>\n",
       "      <td>...</td>\n",
       "      <td>2.243902</td>\n",
       "      <td>0.396157</td>\n",
       "      <td>3168.384423</td>\n",
       "      <td>1604.449033</td>\n",
       "      <td>-2.146341</td>\n",
       "      <td>-0.31821</td>\n",
       "      <td>-0.296669</td>\n",
       "      <td>1.121008</td>\n",
       "      <td>2.150328</td>\n",
       "      <td>0.415867</td>\n",
       "    </tr>\n",
       "    <tr>\n",
       "      <th>1</th>\n",
       "      <td>2020-05-07 15:00</td>\n",
       "      <td>0</td>\n",
       "      <td>196</td>\n",
       "      <td>34.4775</td>\n",
       "      <td>0.918750</td>\n",
       "      <td>0.0</td>\n",
       "      <td>0.0</td>\n",
       "      <td>0.0</td>\n",
       "      <td>0.721875</td>\n",
       "      <td>0.0</td>\n",
       "      <td>...</td>\n",
       "      <td>2.243902</td>\n",
       "      <td>0.396157</td>\n",
       "      <td>3168.384423</td>\n",
       "      <td>1604.449033</td>\n",
       "      <td>-2.146341</td>\n",
       "      <td>-0.31821</td>\n",
       "      <td>-0.296669</td>\n",
       "      <td>1.121008</td>\n",
       "      <td>2.150328</td>\n",
       "      <td>0.415867</td>\n",
       "    </tr>\n",
       "    <tr>\n",
       "      <th>2</th>\n",
       "      <td>2020-05-07 15:00</td>\n",
       "      <td>0</td>\n",
       "      <td>196</td>\n",
       "      <td>34.4325</td>\n",
       "      <td>0.907813</td>\n",
       "      <td>0.0</td>\n",
       "      <td>0.0</td>\n",
       "      <td>0.0</td>\n",
       "      <td>0.721875</td>\n",
       "      <td>0.0</td>\n",
       "      <td>...</td>\n",
       "      <td>2.243902</td>\n",
       "      <td>0.396157</td>\n",
       "      <td>3168.384423</td>\n",
       "      <td>1604.449033</td>\n",
       "      <td>-2.146341</td>\n",
       "      <td>-0.31821</td>\n",
       "      <td>-0.296669</td>\n",
       "      <td>1.121008</td>\n",
       "      <td>2.150328</td>\n",
       "      <td>0.415867</td>\n",
       "    </tr>\n",
       "    <tr>\n",
       "      <th>3</th>\n",
       "      <td>2020-05-07 15:00</td>\n",
       "      <td>0</td>\n",
       "      <td>196</td>\n",
       "      <td>34.4325</td>\n",
       "      <td>0.929688</td>\n",
       "      <td>0.0</td>\n",
       "      <td>0.0</td>\n",
       "      <td>0.0</td>\n",
       "      <td>0.721875</td>\n",
       "      <td>0.0</td>\n",
       "      <td>...</td>\n",
       "      <td>2.243902</td>\n",
       "      <td>0.396157</td>\n",
       "      <td>3168.384423</td>\n",
       "      <td>1604.449033</td>\n",
       "      <td>-2.146341</td>\n",
       "      <td>-0.31821</td>\n",
       "      <td>-0.296669</td>\n",
       "      <td>1.121008</td>\n",
       "      <td>2.150328</td>\n",
       "      <td>0.415867</td>\n",
       "    </tr>\n",
       "    <tr>\n",
       "      <th>4</th>\n",
       "      <td>2020-05-07 15:00</td>\n",
       "      <td>0</td>\n",
       "      <td>196</td>\n",
       "      <td>34.5600</td>\n",
       "      <td>0.940625</td>\n",
       "      <td>0.0</td>\n",
       "      <td>0.0</td>\n",
       "      <td>0.0</td>\n",
       "      <td>0.721875</td>\n",
       "      <td>0.0</td>\n",
       "      <td>...</td>\n",
       "      <td>2.243902</td>\n",
       "      <td>0.396157</td>\n",
       "      <td>3168.384423</td>\n",
       "      <td>1604.449033</td>\n",
       "      <td>-2.146341</td>\n",
       "      <td>-0.31821</td>\n",
       "      <td>-0.296669</td>\n",
       "      <td>1.121008</td>\n",
       "      <td>2.150328</td>\n",
       "      <td>0.415867</td>\n",
       "    </tr>\n",
       "  </tbody>\n",
       "</table>\n",
       "<p>5 rows × 55 columns</p>\n",
       "</div>"
      ],
      "text/plain": [
       "           datetime  ms  depth   hkload      spp1  p_rate1  spp2  p_rate2  \\\n",
       "0  2020-05-07 15:00   0    196  34.5675  0.918750      0.0   0.0      0.0   \n",
       "1  2020-05-07 15:00   0    196  34.4775  0.918750      0.0   0.0      0.0   \n",
       "2  2020-05-07 15:00   0    196  34.4325  0.907813      0.0   0.0      0.0   \n",
       "3  2020-05-07 15:00   0    196  34.4325  0.929688      0.0   0.0      0.0   \n",
       "4  2020-05-07 15:00   0    196  34.5600  0.940625      0.0   0.0      0.0   \n",
       "\n",
       "    bheight  rpm  ...  shypeak(g)  shyrms(g)  shzcount(samples)  \\\n",
       "0  0.721875  0.0  ...    2.243902   0.396157        3168.384423   \n",
       "1  0.721875  0.0  ...    2.243902   0.396157        3168.384423   \n",
       "2  0.721875  0.0  ...    2.243902   0.396157        3168.384423   \n",
       "3  0.721875  0.0  ...    2.243902   0.396157        3168.384423   \n",
       "4  0.721875  0.0  ...    2.243902   0.396157        3168.384423   \n",
       "\n",
       "   shzsamprate(hz)  shzmin(g)  shzavg(g)  shzmed(g)  shzmax(g) shzpeak(g)  \\\n",
       "0      1604.449033  -2.146341   -0.31821  -0.296669   1.121008   2.150328   \n",
       "1      1604.449033  -2.146341   -0.31821  -0.296669   1.121008   2.150328   \n",
       "2      1604.449033  -2.146341   -0.31821  -0.296669   1.121008   2.150328   \n",
       "3      1604.449033  -2.146341   -0.31821  -0.296669   1.121008   2.150328   \n",
       "4      1604.449033  -2.146341   -0.31821  -0.296669   1.121008   2.150328   \n",
       "\n",
       "   shzrms(g)  \n",
       "0   0.415867  \n",
       "1   0.415867  \n",
       "2   0.415867  \n",
       "3   0.415867  \n",
       "4   0.415867  \n",
       "\n",
       "[5 rows x 55 columns]"
      ]
     },
     "execution_count": 4,
     "metadata": {},
     "output_type": "execute_result"
    }
   ],
   "source": [
    "df.head()"
   ]
  },
  {
   "cell_type": "code",
   "execution_count": 5,
   "metadata": {},
   "outputs": [],
   "source": [
    "df['datetime']=pd.to_datetime(df['datetime'])"
   ]
  },
  {
   "cell_type": "code",
   "execution_count": 6,
   "metadata": {},
   "outputs": [
    {
     "data": {
      "text/html": [
       "<div>\n",
       "<style scoped>\n",
       "    .dataframe tbody tr th:only-of-type {\n",
       "        vertical-align: middle;\n",
       "    }\n",
       "\n",
       "    .dataframe tbody tr th {\n",
       "        vertical-align: top;\n",
       "    }\n",
       "\n",
       "    .dataframe thead th {\n",
       "        text-align: right;\n",
       "    }\n",
       "</style>\n",
       "<table border=\"1\" class=\"dataframe\">\n",
       "  <thead>\n",
       "    <tr style=\"text-align: right;\">\n",
       "      <th></th>\n",
       "      <th>datetime</th>\n",
       "      <th>ms</th>\n",
       "      <th>depth</th>\n",
       "      <th>hkload</th>\n",
       "      <th>spp1</th>\n",
       "      <th>p_rate1</th>\n",
       "      <th>spp2</th>\n",
       "      <th>p_rate2</th>\n",
       "      <th>bheight</th>\n",
       "      <th>rpm</th>\n",
       "      <th>...</th>\n",
       "      <th>shypeak(g)</th>\n",
       "      <th>shyrms(g)</th>\n",
       "      <th>shzcount(samples)</th>\n",
       "      <th>shzsamprate(hz)</th>\n",
       "      <th>shzmin(g)</th>\n",
       "      <th>shzavg(g)</th>\n",
       "      <th>shzmed(g)</th>\n",
       "      <th>shzmax(g)</th>\n",
       "      <th>shzpeak(g)</th>\n",
       "      <th>shzrms(g)</th>\n",
       "    </tr>\n",
       "  </thead>\n",
       "  <tbody>\n",
       "    <tr>\n",
       "      <th>0</th>\n",
       "      <td>2020-05-07 15:00:00</td>\n",
       "      <td>0</td>\n",
       "      <td>196</td>\n",
       "      <td>34.5675</td>\n",
       "      <td>0.918750</td>\n",
       "      <td>0.0</td>\n",
       "      <td>0.0</td>\n",
       "      <td>0.0</td>\n",
       "      <td>0.721875</td>\n",
       "      <td>0.0</td>\n",
       "      <td>...</td>\n",
       "      <td>2.243902</td>\n",
       "      <td>0.396157</td>\n",
       "      <td>3168.384423</td>\n",
       "      <td>1604.449033</td>\n",
       "      <td>-2.146341</td>\n",
       "      <td>-0.31821</td>\n",
       "      <td>-0.296669</td>\n",
       "      <td>1.121008</td>\n",
       "      <td>2.150328</td>\n",
       "      <td>0.415867</td>\n",
       "    </tr>\n",
       "    <tr>\n",
       "      <th>1</th>\n",
       "      <td>2020-05-07 15:00:00</td>\n",
       "      <td>0</td>\n",
       "      <td>196</td>\n",
       "      <td>34.4775</td>\n",
       "      <td>0.918750</td>\n",
       "      <td>0.0</td>\n",
       "      <td>0.0</td>\n",
       "      <td>0.0</td>\n",
       "      <td>0.721875</td>\n",
       "      <td>0.0</td>\n",
       "      <td>...</td>\n",
       "      <td>2.243902</td>\n",
       "      <td>0.396157</td>\n",
       "      <td>3168.384423</td>\n",
       "      <td>1604.449033</td>\n",
       "      <td>-2.146341</td>\n",
       "      <td>-0.31821</td>\n",
       "      <td>-0.296669</td>\n",
       "      <td>1.121008</td>\n",
       "      <td>2.150328</td>\n",
       "      <td>0.415867</td>\n",
       "    </tr>\n",
       "    <tr>\n",
       "      <th>2</th>\n",
       "      <td>2020-05-07 15:00:00</td>\n",
       "      <td>0</td>\n",
       "      <td>196</td>\n",
       "      <td>34.4325</td>\n",
       "      <td>0.907813</td>\n",
       "      <td>0.0</td>\n",
       "      <td>0.0</td>\n",
       "      <td>0.0</td>\n",
       "      <td>0.721875</td>\n",
       "      <td>0.0</td>\n",
       "      <td>...</td>\n",
       "      <td>2.243902</td>\n",
       "      <td>0.396157</td>\n",
       "      <td>3168.384423</td>\n",
       "      <td>1604.449033</td>\n",
       "      <td>-2.146341</td>\n",
       "      <td>-0.31821</td>\n",
       "      <td>-0.296669</td>\n",
       "      <td>1.121008</td>\n",
       "      <td>2.150328</td>\n",
       "      <td>0.415867</td>\n",
       "    </tr>\n",
       "    <tr>\n",
       "      <th>3</th>\n",
       "      <td>2020-05-07 15:00:00</td>\n",
       "      <td>0</td>\n",
       "      <td>196</td>\n",
       "      <td>34.4325</td>\n",
       "      <td>0.929688</td>\n",
       "      <td>0.0</td>\n",
       "      <td>0.0</td>\n",
       "      <td>0.0</td>\n",
       "      <td>0.721875</td>\n",
       "      <td>0.0</td>\n",
       "      <td>...</td>\n",
       "      <td>2.243902</td>\n",
       "      <td>0.396157</td>\n",
       "      <td>3168.384423</td>\n",
       "      <td>1604.449033</td>\n",
       "      <td>-2.146341</td>\n",
       "      <td>-0.31821</td>\n",
       "      <td>-0.296669</td>\n",
       "      <td>1.121008</td>\n",
       "      <td>2.150328</td>\n",
       "      <td>0.415867</td>\n",
       "    </tr>\n",
       "    <tr>\n",
       "      <th>4</th>\n",
       "      <td>2020-05-07 15:00:00</td>\n",
       "      <td>0</td>\n",
       "      <td>196</td>\n",
       "      <td>34.5600</td>\n",
       "      <td>0.940625</td>\n",
       "      <td>0.0</td>\n",
       "      <td>0.0</td>\n",
       "      <td>0.0</td>\n",
       "      <td>0.721875</td>\n",
       "      <td>0.0</td>\n",
       "      <td>...</td>\n",
       "      <td>2.243902</td>\n",
       "      <td>0.396157</td>\n",
       "      <td>3168.384423</td>\n",
       "      <td>1604.449033</td>\n",
       "      <td>-2.146341</td>\n",
       "      <td>-0.31821</td>\n",
       "      <td>-0.296669</td>\n",
       "      <td>1.121008</td>\n",
       "      <td>2.150328</td>\n",
       "      <td>0.415867</td>\n",
       "    </tr>\n",
       "  </tbody>\n",
       "</table>\n",
       "<p>5 rows × 55 columns</p>\n",
       "</div>"
      ],
      "text/plain": [
       "             datetime  ms  depth   hkload      spp1  p_rate1  spp2  p_rate2  \\\n",
       "0 2020-05-07 15:00:00   0    196  34.5675  0.918750      0.0   0.0      0.0   \n",
       "1 2020-05-07 15:00:00   0    196  34.4775  0.918750      0.0   0.0      0.0   \n",
       "2 2020-05-07 15:00:00   0    196  34.4325  0.907813      0.0   0.0      0.0   \n",
       "3 2020-05-07 15:00:00   0    196  34.4325  0.929688      0.0   0.0      0.0   \n",
       "4 2020-05-07 15:00:00   0    196  34.5600  0.940625      0.0   0.0      0.0   \n",
       "\n",
       "    bheight  rpm  ...  shypeak(g)  shyrms(g)  shzcount(samples)  \\\n",
       "0  0.721875  0.0  ...    2.243902   0.396157        3168.384423   \n",
       "1  0.721875  0.0  ...    2.243902   0.396157        3168.384423   \n",
       "2  0.721875  0.0  ...    2.243902   0.396157        3168.384423   \n",
       "3  0.721875  0.0  ...    2.243902   0.396157        3168.384423   \n",
       "4  0.721875  0.0  ...    2.243902   0.396157        3168.384423   \n",
       "\n",
       "   shzsamprate(hz)  shzmin(g)  shzavg(g)  shzmed(g)  shzmax(g) shzpeak(g)  \\\n",
       "0      1604.449033  -2.146341   -0.31821  -0.296669   1.121008   2.150328   \n",
       "1      1604.449033  -2.146341   -0.31821  -0.296669   1.121008   2.150328   \n",
       "2      1604.449033  -2.146341   -0.31821  -0.296669   1.121008   2.150328   \n",
       "3      1604.449033  -2.146341   -0.31821  -0.296669   1.121008   2.150328   \n",
       "4      1604.449033  -2.146341   -0.31821  -0.296669   1.121008   2.150328   \n",
       "\n",
       "   shzrms(g)  \n",
       "0   0.415867  \n",
       "1   0.415867  \n",
       "2   0.415867  \n",
       "3   0.415867  \n",
       "4   0.415867  \n",
       "\n",
       "[5 rows x 55 columns]"
      ]
     },
     "execution_count": 6,
     "metadata": {},
     "output_type": "execute_result"
    }
   ],
   "source": [
    "df.head()"
   ]
  },
  {
   "cell_type": "code",
   "execution_count": 7,
   "metadata": {},
   "outputs": [
    {
     "name": "stdout",
     "output_type": "stream",
     "text": [
      "<class 'pandas.core.frame.DataFrame'>\n",
      "RangeIndex: 14199 entries, 0 to 14198\n",
      "Data columns (total 55 columns):\n",
      " #   Column               Non-Null Count  Dtype         \n",
      "---  ------               --------------  -----         \n",
      " 0   datetime             14199 non-null  datetime64[ns]\n",
      " 1   ms                   14199 non-null  int64         \n",
      " 2   depth                14199 non-null  int64         \n",
      " 3   hkload               14199 non-null  float64       \n",
      " 4   spp1                 14199 non-null  float64       \n",
      " 5   p_rate1              14199 non-null  float64       \n",
      " 6   spp2                 14199 non-null  float64       \n",
      " 7   p_rate2              14199 non-null  float64       \n",
      " 8   bheight              14199 non-null  float64       \n",
      " 9   rpm                  14193 non-null  float64       \n",
      " 10  torque               14199 non-null  float64       \n",
      " 11  wob                  10073 non-null  float64       \n",
      " 12  bdepth               14199 non-null  int64         \n",
      " 13  rop                  3110 non-null   float64       \n",
      " 14  spp                  14199 non-null  float64       \n",
      " 15  p_rate               14199 non-null  float64       \n",
      " 16  tdelta               14199 non-null  float64       \n",
      " 17  mdelta               14199 non-null  float64       \n",
      " 18  memo                 9 non-null      object        \n",
      " 19  temperature(c)       14199 non-null  float64       \n",
      " 20  data loss(%)         14199 non-null  float64       \n",
      " 21  stickslip(%)         14199 non-null  float64       \n",
      " 22  gyroxspread(rpm)     14199 non-null  float64       \n",
      " 23  gyroxcount(samples)  14199 non-null  int64         \n",
      " 24  gyroxsamprate(hz)    14199 non-null  int64         \n",
      " 25  gyroxmin(rpm)        14199 non-null  float64       \n",
      " 26  gyroxavg(rpm)        14199 non-null  float64       \n",
      " 27  gyroxmed(rpm)        14199 non-null  float64       \n",
      " 28  gyroxmax(rpm)        14199 non-null  float64       \n",
      " 29  gyroxpeak(rpm)       14199 non-null  float64       \n",
      " 30  gyroxrms(rpm)        14199 non-null  float64       \n",
      " 31  shxcount(samples)    14199 non-null  float64       \n",
      " 32  shxsamprate(hz)      14199 non-null  float64       \n",
      " 33  shxmin(g)            14199 non-null  float64       \n",
      " 34  shxavg(g)            14199 non-null  float64       \n",
      " 35  shxmed(g)            14199 non-null  float64       \n",
      " 36  shxmax(g)            14199 non-null  float64       \n",
      " 37  shxpeak(g)           14199 non-null  float64       \n",
      " 38  shxrms_g             14199 non-null  float64       \n",
      " 39  shycount(samples)    14199 non-null  float64       \n",
      " 40  shysamprate(hz)      14199 non-null  float64       \n",
      " 41  shymin(g)            14199 non-null  float64       \n",
      " 42  shyavg(g)            14199 non-null  float64       \n",
      " 43  shymed(g)            14199 non-null  float64       \n",
      " 44  shymax(g)            14199 non-null  float64       \n",
      " 45  shypeak(g)           14199 non-null  float64       \n",
      " 46  shyrms(g)            14199 non-null  float64       \n",
      " 47  shzcount(samples)    14199 non-null  float64       \n",
      " 48  shzsamprate(hz)      14199 non-null  float64       \n",
      " 49  shzmin(g)            14199 non-null  float64       \n",
      " 50  shzavg(g)            14199 non-null  float64       \n",
      " 51  shzmed(g)            14199 non-null  float64       \n",
      " 52  shzmax(g)            14199 non-null  float64       \n",
      " 53  shzpeak(g)           14199 non-null  float64       \n",
      " 54  shzrms(g)            14199 non-null  float64       \n",
      "dtypes: datetime64[ns](1), float64(48), int64(5), object(1)\n",
      "memory usage: 6.0+ MB\n"
     ]
    }
   ],
   "source": [
    "df.info()"
   ]
  },
  {
   "cell_type": "code",
   "execution_count": 8,
   "metadata": {},
   "outputs": [
    {
     "data": {
      "text/plain": [
       "<matplotlib.legend.Legend at 0x121a6556a48>"
      ]
     },
     "execution_count": 8,
     "metadata": {},
     "output_type": "execute_result"
    },
    {
     "data": {
      "image/png": "[encoded data removed]",
      "text/plain": [
       "<Figure size 1440x720 with 2 Axes>"
      ]
     },
     "metadata": {
      "needs_background": "light"
     },
     "output_type": "display_data"
    }
   ],
   "source": [
    "fig, ax1 = plt.subplots(figsize=(20,10))\n",
    "ax2 = ax1.twinx()\n",
    "ax1.plot(df['datetime'], df['shxrms_g'], 'g')\n",
    "ax2.plot(df['datetime'], df['spp'], 'b')\n",
    "ax1.set_ylabel('Axial (RMS)')\n",
    "ax1.set_xlabel('Time')\n",
    "ax2.set_ylabel('SPP (Mpa)')\n",
    "ax1.legend('Axial')\n",
    "ax2.legend('SPP')"
   ]
  },
  {
   "cell_type": "code",
   "execution_count": 9,
   "metadata": {},
   "outputs": [],
   "source": [
    "#taking a smaller sample for experiment"
   ]
  },
  {
   "cell_type": "code",
   "execution_count": 10,
   "metadata": {},
   "outputs": [],
   "source": [
    "df_new=df[(df.datetime>'2020-05-07 17:22:00') & (df.datetime<'2020-05-07 17:43:00')]"
   ]
  },
  {
   "cell_type": "code",
   "execution_count": 11,
   "metadata": {},
   "outputs": [
    {
     "data": {
      "text/plain": [
       "Text(0, 0.5, 'SPP (Mpa)')"
      ]
     },
     "execution_count": 11,
     "metadata": {},
     "output_type": "execute_result"
    },
    {
     "data": {
      "image/png": "[encoded data removed]",
      "text/plain": [
       "<Figure size 1440x720 with 2 Axes>"
      ]
     },
     "metadata": {
      "needs_background": "light"
     },
     "output_type": "display_data"
    }
   ],
   "source": [
    "fig, ax1 = plt.subplots(figsize=(20,10))\n",
    "ax2 = ax1.twinx()\n",
    "ax1.plot(df_new['datetime'], df_new['shxrms_g'], 'g')\n",
    "ax2.plot(df_new['datetime'], df_new['spp'], 'b')\n",
    "ax1.set_ylabel('Axial (RMS)')\n",
    "ax1.set_xlabel('Time')\n",
    "ax2.set_ylabel('SPP (Mpa)')"
   ]
  },
  {
   "cell_type": "code",
   "execution_count": 12,
   "metadata": {},
   "outputs": [],
   "source": [
    "#Comput FFT\n",
    "a=np.array(df['shxrms_g'])\n",
    "X=fft(a)"
   ]
  },
  {
   "cell_type": "code",
   "execution_count": 13,
   "metadata": {},
   "outputs": [],
   "source": [
    "#generate frequency axis\n",
    "n=np.size(df['datetime'])\n",
    "fr=(1/2) * np.linspace(0,n,int(n/2))\n",
    "X_m=(2/n)*np.abs(X[0:np.size(fr)])"
   ]
  },
  {
   "cell_type": "code",
   "execution_count": 14,
   "metadata": {},
   "outputs": [
    {
     "data": {
      "text/plain": [
       "[<matplotlib.lines.Line2D at 0x121a668e1c8>]"
      ]
     },
     "execution_count": 14,
     "metadata": {},
     "output_type": "execute_result"
    },
    {
     "data": {
      "image/png": "[encoded data removed]",
      "text/plain": [
       "<Figure size 432x288 with 1 Axes>"
      ]
     },
     "metadata": {
      "needs_background": "light"
     },
     "output_type": "display_data"
    }
   ],
   "source": [
    "plt.plot(fr,X_m)"
   ]
  },
  {
   "cell_type": "code",
   "execution_count": 15,
   "metadata": {},
   "outputs": [],
   "source": [
    "#power spectrum density"
   ]
  },
  {
   "cell_type": "code",
   "execution_count": 16,
   "metadata": {},
   "outputs": [
    {
     "data": {
      "text/plain": [
       "7099"
      ]
     },
     "execution_count": 16,
     "metadata": {},
     "output_type": "execute_result"
    }
   ],
   "source": [
    "pp=(2/n)*(np.abs(X[0:np.size(fr)])**2)\n",
    "pp.size"
   ]
  },
  {
   "cell_type": "code",
   "execution_count": 17,
   "metadata": {},
   "outputs": [
    {
     "data": {
      "text/plain": [
       "[<matplotlib.lines.Line2D at 0x121a6997188>]"
      ]
     },
     "execution_count": 17,
     "metadata": {},
     "output_type": "execute_result"
    },
    {
     "data": {
      "image/png": "[encoded data removed]",
      "text/plain": [
       "<Figure size 432x288 with 1 Axes>"
      ]
     },
     "metadata": {
      "needs_background": "light"
     },
     "output_type": "display_data"
    }
   ],
   "source": [
    "plt.subplot(2,1,2)\n",
    "plt.plot(fr,pp)\n"
   ]
  },
  {
   "cell_type": "code",
   "execution_count": 18,
   "metadata": {},
   "outputs": [],
   "source": [
    "nn=ifft(pp)"
   ]
  },
  {
   "cell_type": "code",
   "execution_count": 19,
   "metadata": {},
   "outputs": [
    {
     "data": {
      "text/plain": [
       "[<matplotlib.lines.Line2D at 0x121a69eb848>]"
      ]
     },
     "execution_count": 19,
     "metadata": {},
     "output_type": "execute_result"
    },
    {
     "data": {
      "image/png": "[encoded data removed]",
      "text/plain": [
       "<Figure size 432x288 with 1 Axes>"
      ]
     },
     "metadata": {
      "needs_background": "light"
     },
     "output_type": "display_data"
    }
   ],
   "source": [
    "plt.subplot(2,1,2)\n",
    "plt.plot(pp)"
   ]
  },
  {
   "cell_type": "code",
   "execution_count": 20,
   "metadata": {},
   "outputs": [
    {
     "data": {
      "text/plain": [
       "3071989.206667954"
      ]
     },
     "execution_count": 20,
     "metadata": {},
     "output_type": "execute_result"
    }
   ],
   "source": [
    "area=np.trapz(pp)\n",
    "area"
   ]
  },
  {
   "cell_type": "code",
   "execution_count": 21,
   "metadata": {},
   "outputs": [
    {
     "name": "stdout",
     "output_type": "stream",
     "text": [
      "Corr b/w Axial Acc and SSP: [[1.         0.92928607]\n",
      " [0.92928607 1.        ]]\n"
     ]
    }
   ],
   "source": [
    "import numpy as np\n",
    "print('Corr b/w Axial Acc and SSP:',np.corrcoef(df_new.shxrms_g,df_new.spp))\n"
   ]
  },
  {
   "cell_type": "code",
   "execution_count": 22,
   "metadata": {},
   "outputs": [
    {
     "data": {
      "text/html": [
       "<table class=\"simpletable\">\n",
       "<caption>OLS Regression Results</caption>\n",
       "<tr>\n",
       "  <th>Dep. Variable:</th>        <td>shxrms_g</td>     <th>  R-squared:         </th> <td>   0.864</td>\n",
       "</tr>\n",
       "<tr>\n",
       "  <th>Model:</th>                   <td>OLS</td>       <th>  Adj. R-squared:    </th> <td>   0.863</td>\n",
       "</tr>\n",
       "<tr>\n",
       "  <th>Method:</th>             <td>Least Squares</td>  <th>  F-statistic:       </th> <td>   7583.</td>\n",
       "</tr>\n",
       "<tr>\n",
       "  <th>Date:</th>             <td>Mon, 08 Jun 2020</td> <th>  Prob (F-statistic):</th>  <td>  0.00</td> \n",
       "</tr>\n",
       "<tr>\n",
       "  <th>Time:</th>                 <td>09:14:56</td>     <th>  Log-Likelihood:    </th> <td> -3348.3</td>\n",
       "</tr>\n",
       "<tr>\n",
       "  <th>No. Observations:</th>      <td>  1200</td>      <th>  AIC:               </th> <td>   6701.</td>\n",
       "</tr>\n",
       "<tr>\n",
       "  <th>Df Residuals:</th>          <td>  1198</td>      <th>  BIC:               </th> <td>   6711.</td>\n",
       "</tr>\n",
       "<tr>\n",
       "  <th>Df Model:</th>              <td>     1</td>      <th>                     </th>     <td> </td>   \n",
       "</tr>\n",
       "<tr>\n",
       "  <th>Covariance Type:</th>      <td>nonrobust</td>    <th>                     </th>     <td> </td>   \n",
       "</tr>\n",
       "</table>\n",
       "<table class=\"simpletable\">\n",
       "<tr>\n",
       "      <td></td>         <th>coef</th>     <th>std err</th>      <th>t</th>      <th>P>|t|</th>  <th>[0.025</th>    <th>0.975]</th>  \n",
       "</tr>\n",
       "<tr>\n",
       "  <th>Intercept</th> <td>   -1.4848</td> <td>    0.266</td> <td>   -5.583</td> <td> 0.000</td> <td>   -2.007</td> <td>   -0.963</td>\n",
       "</tr>\n",
       "<tr>\n",
       "  <th>spp</th>       <td>    0.0039</td> <td> 4.45e-05</td> <td>   87.082</td> <td> 0.000</td> <td>    0.004</td> <td>    0.004</td>\n",
       "</tr>\n",
       "</table>\n",
       "<table class=\"simpletable\">\n",
       "<tr>\n",
       "  <th>Omnibus:</th>       <td>18.069</td> <th>  Durbin-Watson:     </th> <td>   0.031</td>\n",
       "</tr>\n",
       "<tr>\n",
       "  <th>Prob(Omnibus):</th> <td> 0.000</td> <th>  Jarque-Bera (JB):  </th> <td>  12.126</td>\n",
       "</tr>\n",
       "<tr>\n",
       "  <th>Skew:</th>          <td>-0.110</td> <th>  Prob(JB):          </th> <td> 0.00233</td>\n",
       "</tr>\n",
       "<tr>\n",
       "  <th>Kurtosis:</th>      <td> 2.559</td> <th>  Cond. No.          </th> <td>1.40e+04</td>\n",
       "</tr>\n",
       "</table><br/><br/>Warnings:<br/>[1] Standard Errors assume that the covariance matrix of the errors is correctly specified.<br/>[2] The condition number is large, 1.4e+04. This might indicate that there are<br/>strong multicollinearity or other numerical problems."
      ],
      "text/plain": [
       "<class 'statsmodels.iolib.summary.Summary'>\n",
       "\"\"\"\n",
       "                            OLS Regression Results                            \n",
       "==============================================================================\n",
       "Dep. Variable:               shxrms_g   R-squared:                       0.864\n",
       "Model:                            OLS   Adj. R-squared:                  0.863\n",
       "Method:                 Least Squares   F-statistic:                     7583.\n",
       "Date:                Mon, 08 Jun 2020   Prob (F-statistic):               0.00\n",
       "Time:                        09:14:56   Log-Likelihood:                -3348.3\n",
       "No. Observations:                1200   AIC:                             6701.\n",
       "Df Residuals:                    1198   BIC:                             6711.\n",
       "Df Model:                           1                                         \n",
       "Covariance Type:            nonrobust                                         \n",
       "==============================================================================\n",
       "                 coef    std err          t      P>|t|      [0.025      0.975]\n",
       "------------------------------------------------------------------------------\n",
       "Intercept     -1.4848      0.266     -5.583      0.000      -2.007      -0.963\n",
       "spp            0.0039   4.45e-05     87.082      0.000       0.004       0.004\n",
       "==============================================================================\n",
       "Omnibus:                       18.069   Durbin-Watson:                   0.031\n",
       "Prob(Omnibus):                  0.000   Jarque-Bera (JB):               12.126\n",
       "Skew:                          -0.110   Prob(JB):                      0.00233\n",
       "Kurtosis:                       2.559   Cond. No.                     1.40e+04\n",
       "==============================================================================\n",
       "\n",
       "Warnings:\n",
       "[1] Standard Errors assume that the covariance matrix of the errors is correctly specified.\n",
       "[2] The condition number is large, 1.4e+04. This might indicate that there are\n",
       "strong multicollinearity or other numerical problems.\n",
       "\"\"\""
      ]
     },
     "execution_count": 22,
     "metadata": {},
     "output_type": "execute_result"
    }
   ],
   "source": [
    "#Using Stats Model to understand the hypothesis: Model 1\n",
    "import statsmodels.formula.api as smf\n",
    "model1=smf.ols(formula='shxrms_g ~ spp', data=df_new).fit()\n",
    "model1.summary()"
   ]
  },
  {
   "cell_type": "code",
   "execution_count": 23,
   "metadata": {},
   "outputs": [
    {
     "data": {
      "text/plain": [
       "Intercept    2.919787e-08\n",
       "spp          0.000000e+00\n",
       "dtype: float64"
      ]
     },
     "execution_count": 23,
     "metadata": {},
     "output_type": "execute_result"
    }
   ],
   "source": [
    "model1.pvalues"
   ]
  },
  {
   "cell_type": "code",
   "execution_count": 24,
   "metadata": {},
   "outputs": [],
   "source": [
    "#Scikit Learn Model\n",
    "#Experimental Trial and Error using Looping\n",
    "#Defining features and lables for the Regression problem\n",
    "\n",
    "X=df_new.iloc[:,[14]]\n",
    "y=df_new.iloc[:,[38]]"
   ]
  },
  {
   "cell_type": "code",
   "execution_count": 25,
   "metadata": {},
   "outputs": [
    {
     "name": "stdout",
     "output_type": "stream",
     "text": [
      "Testing : 0.8704813984972303 Training : 0.8616983439364501 Random State: 1\n",
      "Testing : 0.8746100449139128 Training : 0.8607491187379476 Random State: 4\n",
      "Testing : 0.870713694871997 Training : 0.8616116985897452 Random State: 6\n",
      "Testing : 0.8702774411365489 Training : 0.86153969862909 Random State: 9\n",
      "Testing : 0.889469403359566 Training : 0.8561747457667047 Random State: 10\n",
      "Testing : 0.8762754516756212 Training : 0.8600503781887382 Random State: 11\n",
      "Testing : 0.8658058945688287 Training : 0.8627550689409833 Random State: 17\n",
      "Testing : 0.8635042933663221 Training : 0.8634863383946322 Random State: 20\n",
      "Testing : 0.8769265369803092 Training : 0.8596847955179429 Random State: 24\n",
      "Testing : 0.8655075518296644 Training : 0.8630054115085324 Random State: 26\n",
      "Testing : 0.8686646941502558 Training : 0.8621263612247726 Random State: 28\n"
     ]
    }
   ],
   "source": [
    "from sklearn.model_selection import train_test_split\n",
    "from sklearn.metrics import mean_squared_error, r2_score\n",
    "from sklearn.linear_model import LinearRegression\n",
    "from sklearn.linear_model import RidgeClassifier\n",
    "\n",
    "for i in range(1,30):\n",
    "    X_train,X_test,y_train,y_test=train_test_split(X,y,test_size=0.2, random_state=i)\n",
    "    \n",
    "    model=LinearRegression()\n",
    "    model.fit(X_train,y_train)\n",
    "    \n",
    "    training_score=model.score(X_train,y_train)\n",
    "    testing_score=model.score(X_test,y_test)\n",
    "   \n",
    "    if testing_score > training_score:\n",
    "        print(\"Testing : {} Training : {} Random State: {}\".format(testing_score,training_score,i))"
   ]
  },
  {
   "cell_type": "code",
   "execution_count": 26,
   "metadata": {},
   "outputs": [],
   "source": []
  },
  {
   "cell_type": "code",
   "execution_count": 27,
   "metadata": {},
   "outputs": [],
   "source": [
    "from sklearn.linear_model import Lasso"
   ]
  },
  {
   "cell_type": "code",
   "execution_count": 37,
   "metadata": {},
   "outputs": [
    {
     "data": {
      "text/plain": [
       "<matplotlib.legend.Legend at 0x121abe55248>"
      ]
     },
     "execution_count": 37,
     "metadata": {},
     "output_type": "execute_result"
    },
    {
     "data": {
      "image/png": "[encoded data removed]",
      "text/plain": [
       "<Figure size 1440x720 with 1 Axes>"
      ]
     },
     "metadata": {
      "needs_background": "light"
     },
     "output_type": "display_data"
    }
   ],
   "source": [
    "#Anomaly Detection\n",
    "fig, ax1 = plt.subplots(figsize=(20,10))\n",
    "#ax2 = ax1.twinx()\n",
    "ax1.scatter(df['spp'], df['shxrms_g'])\n",
    "#ax2.plot(df['datetime'], df['spp'], 'b', kind='scatter')\n",
    "ax1.set_ylabel('Axial (RMS)')\n",
    "ax1.set_xlabel('SPP')\n",
    "#ax2.set_ylabel('SPP (Mpa)')\n",
    "ax1.legend('Axial')\n",
    "#ax2.legend('SPP')"
   ]
  },
  {
   "cell_type": "code",
   "execution_count": null,
   "metadata": {},
   "outputs": [],
   "source": []
  }
 ],
 "metadata": {
  "kernelspec": {
   "display_name": "Python 3",
   "language": "python",
   "name": "python3"
  },
  "language_info": {
   "codemirror_mode": {
    "name": "ipython",
    "version": 3
   },
   "file_extension": ".py",
   "mimetype": "text/x-python",
   "name": "python",
   "nbconvert_exporter": "python",
   "pygments_lexer": "ipython3",
   "version": "3.7.6"
  }
 },
 "nbformat": 4,
 "nbformat_minor": 4
}
